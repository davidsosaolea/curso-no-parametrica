{
  "cells": [
    {
      "cell_type": "code",
      "execution_count": 1,
      "metadata": {
        "colab": {
          "base_uri": "https://localhost:8080/",
          "height": 51
        },
        "colab_type": "code",
        "id": "nf0_mvB7cr_8",
        "outputId": "280c7525-6a99-44c9-97c5-e44716864c57"
      },
      "outputs": [],
      "source": [
        "import pandas as pd\n",
        "import seaborn as sns\n",
        "import numpy as np\n",
        "import matplotlib.pyplot as plt\n",
        "from scipy import stats\n",
        "from scipy.stats import mannwhitneyu"
      ]
    },
    {
      "cell_type": "markdown",
      "metadata": {
        "colab_type": "text",
        "id": "ctSkwHoWdQao"
      },
      "source": [
        "https://docs.scipy.org/doc/scipy/reference/generated/scipy.stats.mannwhitneyu.html\n",
        "\n",
        "Use only when the number of observation in each sample is > 20 and you have 2 independent samples of ranks. Mann-Whitney U is significant if the u-obtained is LESS THAN or equal to the critical value of U. \n",
        "This test corrects for ties and by default uses a continuity correction."
      ]
    },
    {
      "cell_type": "markdown",
      "metadata": {
        "colab_type": "text",
        "id": "JPRrYHbofmsb"
      },
      "source": [
        "El dataset consiste en la cantidad de tejido cancerígeno extraído mediante las pinzas de tipo estándar (Forceps=1) y de tipo Jumbo (Forceps=2). Se quiere comprobar si existen diferencias significativas o no.\n",
        "\n",
        "[Pinzas Jumbo vs Estándar](data:image/jpeg;base64,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)"
      ]
    },
    {
      "cell_type": "code",
      "execution_count": 4,
      "metadata": {
        "colab": {},
        "colab_type": "code",
        "id": "ji-_FCOsdgYt"
      },
      "outputs": [],
      "source": [
        "df=pd.read_csv('forceps.csv')"
      ]
    },
    {
      "cell_type": "code",
      "execution_count": 5,
      "metadata": {
        "colab": {
          "base_uri": "https://localhost:8080/",
          "height": 204
        },
        "colab_type": "code",
        "id": "Av85nXJgd4gL",
        "outputId": "33d81da4-61c0-4ea8-a379-61ba2fc1e897"
      },
      "outputs": [
        {
          "data": {
            "text/html": [
              "<div>\n",
              "<style scoped>\n",
              "    .dataframe tbody tr th:only-of-type {\n",
              "        vertical-align: middle;\n",
              "    }\n",
              "\n",
              "    .dataframe tbody tr th {\n",
              "        vertical-align: top;\n",
              "    }\n",
              "\n",
              "    .dataframe thead th {\n",
              "        text-align: right;\n",
              "    }\n",
              "</style>\n",
              "<table border=\"1\" class=\"dataframe\">\n",
              "  <thead>\n",
              "    <tr style=\"text-align: right;\">\n",
              "      <th></th>\n",
              "      <th>Forceps</th>\n",
              "      <th>Resection</th>\n",
              "    </tr>\n",
              "  </thead>\n",
              "  <tbody>\n",
              "    <tr>\n",
              "      <th>0</th>\n",
              "      <td>2.0</td>\n",
              "      <td>2.0</td>\n",
              "    </tr>\n",
              "    <tr>\n",
              "      <th>1</th>\n",
              "      <td>1.0</td>\n",
              "      <td>2.0</td>\n",
              "    </tr>\n",
              "    <tr>\n",
              "      <th>2</th>\n",
              "      <td>2.0</td>\n",
              "      <td>3.0</td>\n",
              "    </tr>\n",
              "    <tr>\n",
              "      <th>3</th>\n",
              "      <td>1.0</td>\n",
              "      <td>1.0</td>\n",
              "    </tr>\n",
              "    <tr>\n",
              "      <th>4</th>\n",
              "      <td>1.0</td>\n",
              "      <td>2.0</td>\n",
              "    </tr>\n",
              "  </tbody>\n",
              "</table>\n",
              "</div>"
            ],
            "text/plain": [
              "   Forceps  Resection\n",
              "0      2.0        2.0\n",
              "1      1.0        2.0\n",
              "2      2.0        3.0\n",
              "3      1.0        1.0\n",
              "4      1.0        2.0"
            ]
          },
          "execution_count": 5,
          "metadata": {},
          "output_type": "execute_result"
        }
      ],
      "source": [
        "df.head()"
      ]
    },
    {
      "cell_type": "code",
      "execution_count": 6,
      "metadata": {
        "colab": {
          "base_uri": "https://localhost:8080/",
          "height": 204
        },
        "colab_type": "code",
        "id": "ix1LbvYmdsoS",
        "outputId": "5c26bdea-403e-4c22-c221-267f73450d71"
      },
      "outputs": [
        {
          "data": {
            "text/html": [
              "<div>\n",
              "<style scoped>\n",
              "    .dataframe tbody tr th:only-of-type {\n",
              "        vertical-align: middle;\n",
              "    }\n",
              "\n",
              "    .dataframe tbody tr th {\n",
              "        vertical-align: top;\n",
              "    }\n",
              "\n",
              "    .dataframe thead th {\n",
              "        text-align: right;\n",
              "    }\n",
              "</style>\n",
              "<table border=\"1\" class=\"dataframe\">\n",
              "  <thead>\n",
              "    <tr style=\"text-align: right;\">\n",
              "      <th></th>\n",
              "      <th>Forceps</th>\n",
              "      <th>Resection</th>\n",
              "    </tr>\n",
              "  </thead>\n",
              "  <tbody>\n",
              "    <tr>\n",
              "      <th>1</th>\n",
              "      <td>1.0</td>\n",
              "      <td>2.0</td>\n",
              "    </tr>\n",
              "    <tr>\n",
              "      <th>3</th>\n",
              "      <td>1.0</td>\n",
              "      <td>1.0</td>\n",
              "    </tr>\n",
              "    <tr>\n",
              "      <th>4</th>\n",
              "      <td>1.0</td>\n",
              "      <td>2.0</td>\n",
              "    </tr>\n",
              "    <tr>\n",
              "      <th>5</th>\n",
              "      <td>1.0</td>\n",
              "      <td>3.0</td>\n",
              "    </tr>\n",
              "    <tr>\n",
              "      <th>8</th>\n",
              "      <td>1.0</td>\n",
              "      <td>2.0</td>\n",
              "    </tr>\n",
              "  </tbody>\n",
              "</table>\n",
              "</div>"
            ],
            "text/plain": [
              "   Forceps  Resection\n",
              "1      1.0        2.0\n",
              "3      1.0        1.0\n",
              "4      1.0        2.0\n",
              "5      1.0        3.0\n",
              "8      1.0        2.0"
            ]
          },
          "execution_count": 6,
          "metadata": {},
          "output_type": "execute_result"
        }
      ],
      "source": [
        "group1=df[df.Forceps==1.0]\n",
        "group2=df[df.Forceps==2.0]\n",
        "group1.head()"
      ]
    },
    {
      "cell_type": "code",
      "execution_count": 10,
      "metadata": {
        "colab": {
          "base_uri": "https://localhost:8080/",
          "height": 34
        },
        "colab_type": "code",
        "id": "7zVGRlVddLnz",
        "outputId": "dde50316-4bb1-44cc-cbfd-0b67bb2b6711"
      },
      "outputs": [
        {
          "name": "stdout",
          "output_type": "stream",
          "text": [
            "p-value: 0.015539092029131481\n"
          ]
        }
      ],
      "source": [
        "stat, p = mannwhitneyu(group1.Resection, group2.Resection,alternative='less')\n",
        "print('p-value:', p)"
      ]
    },
    {
      "cell_type": "markdown",
      "metadata": {
        "colab_type": "text",
        "id": "bmHKCx05eewY"
      },
      "source": [
        "p-valor < 0.05 entonces hay una diferencia significativa en la cantidad de tejido cancerígeno que se elimina con las dos diferentes pinzas, por lo cual la de tipo 2 (Jumbo Forcep) es mejor que la de tipo 1 (Estándar)"
      ]
    }
  ],
  "metadata": {
    "colab": {
      "name": "3.2.Mann_Whitney_Forceps.ipynb",
      "provenance": []
    },
    "kernelspec": {
      "display_name": "Python 3",
      "name": "python3"
    },
    "language_info": {
      "codemirror_mode": {
        "name": "ipython",
        "version": 3
      },
      "file_extension": ".py",
      "mimetype": "text/x-python",
      "name": "python",
      "nbconvert_exporter": "python",
      "pygments_lexer": "ipython3",
      "version": "3.10.6"
    }
  },
  "nbformat": 4,
  "nbformat_minor": 0
}
