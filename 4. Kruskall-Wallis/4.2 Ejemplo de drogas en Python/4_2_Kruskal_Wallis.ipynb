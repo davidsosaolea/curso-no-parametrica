{
  "cells": [
    {
      "cell_type": "code",
      "execution_count": 1,
      "metadata": {
        "colab": {},
        "colab_type": "code",
        "id": "SkDeqbT24Z6e"
      },
      "outputs": [],
      "source": [
        "import numpy as np\n",
        "import pandas as pd\n",
        "import matplotlib.pyplot as plt\n",
        "import seaborn as sns\n",
        "from scipy import stats\n",
        "from scipy.stats import mannwhitneyu\n",
        "from scipy.stats import kruskal"
      ]
    },
    {
      "cell_type": "markdown",
      "metadata": {
        "colab_type": "text",
        "id": "xYRfG-UFoSUZ"
      },
      "source": [
        "Los datos son sobre un estudio de drogas en el que comparamos las clasificaciones de dolor en cuatro grupos de dosificación diferentes. \n",
        "\n",
        "*   Valor 1: 100mg\n",
        "*   Valor 2: 250mg\n",
        "*   Valor 3: 500mg\n",
        "*   Valor 4: 1000mg\n",
        "\n",
        "A los 38 participantes de este estudio se le administra la droga en alguna de esas cantidades y luego se pide que califique su dolor en una escala del uno al siete donde 1 es poco dolor y 7 es mucho dolor. \n"
      ]
    },
    {
      "cell_type": "code",
      "execution_count": 2,
      "metadata": {
        "colab": {},
        "colab_type": "code",
        "id": "1NE5FNHWlOxS"
      },
      "outputs": [],
      "source": [
        "df=pd.read_csv('drugstudy.csv')"
      ]
    },
    {
      "cell_type": "code",
      "execution_count": 3,
      "metadata": {
        "colab": {
          "base_uri": "https://localhost:8080/",
          "height": 204
        },
        "colab_type": "code",
        "id": "ieuPE7tinl33",
        "outputId": "69a819e3-4ab9-498b-ccc7-834e1d1ec306"
      },
      "outputs": [
        {
          "data": {
            "text/html": [
              "<div>\n",
              "<style scoped>\n",
              "    .dataframe tbody tr th:only-of-type {\n",
              "        vertical-align: middle;\n",
              "    }\n",
              "\n",
              "    .dataframe tbody tr th {\n",
              "        vertical-align: top;\n",
              "    }\n",
              "\n",
              "    .dataframe thead th {\n",
              "        text-align: right;\n",
              "    }\n",
              "</style>\n",
              "<table border=\"1\" class=\"dataframe\">\n",
              "  <thead>\n",
              "    <tr style=\"text-align: right;\">\n",
              "      <th></th>\n",
              "      <th>dose</th>\n",
              "      <th>rating</th>\n",
              "    </tr>\n",
              "  </thead>\n",
              "  <tbody>\n",
              "    <tr>\n",
              "      <th>0</th>\n",
              "      <td>1.0</td>\n",
              "      <td>6.0</td>\n",
              "    </tr>\n",
              "    <tr>\n",
              "      <th>1</th>\n",
              "      <td>1.0</td>\n",
              "      <td>4.0</td>\n",
              "    </tr>\n",
              "    <tr>\n",
              "      <th>2</th>\n",
              "      <td>1.0</td>\n",
              "      <td>6.0</td>\n",
              "    </tr>\n",
              "    <tr>\n",
              "      <th>3</th>\n",
              "      <td>1.0</td>\n",
              "      <td>5.0</td>\n",
              "    </tr>\n",
              "    <tr>\n",
              "      <th>4</th>\n",
              "      <td>1.0</td>\n",
              "      <td>4.0</td>\n",
              "    </tr>\n",
              "  </tbody>\n",
              "</table>\n",
              "</div>"
            ],
            "text/plain": [
              "   dose  rating\n",
              "0   1.0     6.0\n",
              "1   1.0     4.0\n",
              "2   1.0     6.0\n",
              "3   1.0     5.0\n",
              "4   1.0     4.0"
            ]
          },
          "execution_count": 3,
          "metadata": {},
          "output_type": "execute_result"
        }
      ],
      "source": [
        "df.head()"
      ]
    },
    {
      "cell_type": "code",
      "execution_count": 4,
      "metadata": {
        "colab": {},
        "colab_type": "code",
        "id": "bMQFaANTneKy"
      },
      "outputs": [],
      "source": [
        "group1=df[df.dose==1.0]\n",
        "group2=df[df.dose==2.0]\n",
        "group3=df[df.dose==3.0]\n",
        "group4=df[df.dose==4.0]"
      ]
    },
    {
      "cell_type": "markdown",
      "metadata": {
        "colab_type": "text",
        "id": "GuUXuiC_oJMA"
      },
      "source": [
        "# Comparando los 4 grupos con la prueba Kruskal-Wallis"
      ]
    },
    {
      "cell_type": "code",
      "execution_count": 5,
      "metadata": {
        "colab": {
          "base_uri": "https://localhost:8080/",
          "height": 221
        },
        "colab_type": "code",
        "id": "PwTLdN1CssiW",
        "outputId": "b481ecf3-cd7c-462c-90e2-bb210dcc49c4"
      },
      "outputs": [
        {
          "data": {
            "text/plain": [
              "0     6.0\n",
              "1     4.0\n",
              "2     6.0\n",
              "3     5.0\n",
              "4     4.0\n",
              "5     3.0\n",
              "6     7.0\n",
              "7     7.0\n",
              "8     6.0\n",
              "9     4.0\n",
              "10    4.0\n",
              "Name: rating, dtype: float64"
            ]
          },
          "execution_count": 5,
          "metadata": {},
          "output_type": "execute_result"
        }
      ],
      "source": [
        "group1.rating"
      ]
    },
    {
      "cell_type": "code",
      "execution_count": 6,
      "metadata": {},
      "outputs": [],
      "source": [
        "stat, p = kruskal(group1, group2, group3, group4)"
      ]
    },
    {
      "cell_type": "code",
      "execution_count": 7,
      "metadata": {},
      "outputs": [
        {
          "data": {
            "text/plain": [
              "array([37.       , 19.4040466])"
            ]
          },
          "execution_count": 7,
          "metadata": {},
          "output_type": "execute_result"
        }
      ],
      "source": [
        "stat"
      ]
    },
    {
      "cell_type": "code",
      "execution_count": 14,
      "metadata": {},
      "outputs": [
        {
          "name": "stdout",
          "output_type": "stream",
          "text": [
            "Statistics=37.000, p=0.000\n",
            "Rechazamos H0: Hay diferencias significativas entre los grupos.\n"
          ]
        }
      ],
      "source": [
        "# Realizar la prueba de Kruskal-Wallis\n",
        "stat, p = kruskal(group1, group2, group3, group4)\n",
        "print('Statistics=%.3f, p=%.3f' % (stat[0], p[0]))  # Tomar el primer valor de stat y p\n",
        "\n",
        "# Interpretación\n",
        "alpha = 0.05\n",
        "if p.max() > alpha:  # Compara el valor de p más alto con alpha\n",
        "    print('No rechazamos H0: No hay diferencias significativas entre los grupos.')\n",
        "else:\n",
        "    print('Rechazamos H0: Hay diferencias significativas entre los grupos.')"
      ]
    },
    {
      "cell_type": "code",
      "execution_count": 8,
      "metadata": {
        "colab": {
          "base_uri": "https://localhost:8080/",
          "height": 51
        },
        "colab_type": "code",
        "id": "6c7bj_9-LjLZ",
        "outputId": "79fa39ba-537f-4ceb-d7a5-2d421931562e"
      },
      "outputs": [
        {
          "ename": "TypeError",
          "evalue": "only length-1 arrays can be converted to Python scalars",
          "output_type": "error",
          "traceback": [
            "\u001b[0;31m---------------------------------------------------------------------------\u001b[0m",
            "\u001b[0;31mTypeError\u001b[0m                                 Traceback (most recent call last)",
            "Cell \u001b[0;32mIn[8], line 2\u001b[0m\n\u001b[1;32m      1\u001b[0m stat, p \u001b[38;5;241m=\u001b[39m kruskal(group1, group2, group3, group4)\n\u001b[0;32m----> 2\u001b[0m \u001b[38;5;28mprint\u001b[39m(\u001b[38;5;124;43m'\u001b[39;49m\u001b[38;5;124;43mStatistics=\u001b[39;49m\u001b[38;5;132;43;01m%.3f\u001b[39;49;00m\u001b[38;5;124;43m, p=\u001b[39;49m\u001b[38;5;132;43;01m%.3f\u001b[39;49;00m\u001b[38;5;124;43m'\u001b[39;49m\u001b[43m \u001b[49m\u001b[38;5;241;43m%\u001b[39;49m\u001b[43m \u001b[49m\u001b[43m(\u001b[49m\u001b[43mstat\u001b[49m\u001b[43m,\u001b[49m\u001b[43m \u001b[49m\u001b[43mp\u001b[49m\u001b[43m)\u001b[49m)\n\u001b[1;32m      3\u001b[0m \u001b[38;5;66;03m# Interpretación\u001b[39;00m\n\u001b[1;32m      4\u001b[0m alpha \u001b[38;5;241m=\u001b[39m \u001b[38;5;241m0.05\u001b[39m\n",
            "\u001b[0;31mTypeError\u001b[0m: only length-1 arrays can be converted to Python scalars"
          ]
        }
      ],
      "source": [
        "stat, p = kruskal(group1, group2, group3, group4)\n",
        "print('Statistics=%.3f, p=%.3f' % (stat, p))\n",
        "# Interpretación\n",
        "alpha = 0.05\n",
        "if p > alpha:\n",
        "\tprint('No rechazamos H0: No hay diferencias significativas entre los grupos.')\n",
        "else:\n",
        "\tprint('Rechazamos H0: Hay diferencias significativas entre los grupos.')"
      ]
    },
    {
      "cell_type": "markdown",
      "metadata": {
        "colab_type": "text",
        "id": "vR1UtYfMoIxo"
      },
      "source": [
        "# Comparando los pares de grupos con la prueba Mann-Whitney"
      ]
    },
    {
      "cell_type": "markdown",
      "metadata": {
        "colab_type": "text",
        "id": "u_6eLaIXt5eY"
      },
      "source": [
        "Lo que esperamos que pase es que mientras más alta sea la dosis menor dolor tendrá el paciente, así por ejemplo muy probablemente el grupo 4 (que tiene la mayor dosis) tendrá en la variable \"rating\" valores más pequeños porque los pacientes posiblemente reportarán menor dolor al haber recibido la mayor dosis del medicamento. Pero en las diferentes combinaciones entre estos 4 grupos ( 6 combinaciones) no sabemos muy bien lo que puede pasar, entonces lo que vamos a investigar es si hay diferencia significativa sin importar si se reporta menor o mayor dolor, es decir, que pondremos como hipótesis alternatica \"two-sided\" que significa que estamos considerando ambas posibilidades pero que al fin y al cabo el que se cumpla cualquiera de ellas quiere decir que hay diferencia significativa que es lo que nos interesa saber. "
      ]
    },
    {
      "cell_type": "code",
      "execution_count": 13,
      "metadata": {
        "colab": {
          "base_uri": "https://localhost:8080/",
          "height": 34
        },
        "colab_type": "code",
        "id": "6MyRr38uqCPZ",
        "outputId": "1956c2d7-bffc-4766-a340-a17dcdac9603"
      },
      "outputs": [
        {
          "data": {
            "text/plain": [
              "0.008333333333333333"
            ]
          },
          "execution_count": 13,
          "metadata": {},
          "output_type": "execute_result"
        }
      ],
      "source": [
        "# Bonferroni: 6 comparaciones\n",
        "alpha_new=0.05/6\n",
        "alpha_new"
      ]
    },
    {
      "cell_type": "code",
      "execution_count": 14,
      "metadata": {
        "colab": {
          "base_uri": "https://localhost:8080/",
          "height": 51
        },
        "colab_type": "code",
        "id": "WU27HiQAo2S9",
        "outputId": "c3e24353-b7b6-4bc8-e8c7-ac53a443f479"
      },
      "outputs": [
        {
          "name": "stdout",
          "output_type": "stream",
          "text": [
            "p-value: 0.009911377465815045\n",
            "No rechazamos H0: No hay diferencias significativas entre los grupos 1 y 2.\n"
          ]
        }
      ],
      "source": [
        "stat, p = mannwhitneyu(group1.rating, group2.rating,alternative='two-sided')\n",
        "print('p-value:', p)\n",
        "if p > alpha_new:\n",
        "\tprint('No rechazamos H0: No hay diferencias significativas entre los grupos 1 y 2.')\n",
        "else:\n",
        "\tprint('Rechazamos H0: Hay diferencias significativas entre los grupos 1 y 2.')"
      ]
    },
    {
      "cell_type": "code",
      "execution_count": 15,
      "metadata": {
        "colab": {
          "base_uri": "https://localhost:8080/",
          "height": 51
        },
        "colab_type": "code",
        "id": "SAhZ_vfuo6jl",
        "outputId": "57dcd4c8-a831-49d6-9fbf-77ea863e90eb"
      },
      "outputs": [
        {
          "name": "stdout",
          "output_type": "stream",
          "text": [
            "p-value: 0.00039457325940790667\n",
            "Rechazamos H0: Hay diferencias significativas entre los grupos 1 y 3.\n"
          ]
        }
      ],
      "source": [
        "stat, p = mannwhitneyu(group1.rating, group3.rating,alternative='two-sided')\n",
        "print('p-value:', p)\n",
        "if p > alpha_new:\n",
        "\tprint('No rechazamos H0: No hay diferencias significativas entre los grupos 1 y 3.')\n",
        "else:\n",
        "\tprint('Rechazamos H0: Hay diferencias significativas entre los grupos 1 y 3.')"
      ]
    },
    {
      "cell_type": "code",
      "execution_count": 16,
      "metadata": {
        "colab": {
          "base_uri": "https://localhost:8080/",
          "height": 51
        },
        "colab_type": "code",
        "id": "x5Ogh2BAo7B3",
        "outputId": "13dfe7d3-47a7-4813-c087-f14c2ef0b2b4"
      },
      "outputs": [
        {
          "name": "stdout",
          "output_type": "stream",
          "text": [
            "p-value: 0.0010607936166658369\n",
            "Rechazamos H0: Hay diferencias significativas entre los grupos 1 y 4.\n"
          ]
        }
      ],
      "source": [
        "stat, p = mannwhitneyu(group1.rating, group4.rating,alternative='two-sided')\n",
        "print('p-value:', p)\n",
        "if p > alpha_new:\n",
        "\tprint('No rechazamos H0: No hay diferencias significativas entre los grupos 1 y 4.')\n",
        "else:\n",
        "\tprint('Rechazamos H0: Hay diferencias significativas entre los grupos 1 y 4.')"
      ]
    },
    {
      "cell_type": "code",
      "execution_count": 17,
      "metadata": {
        "colab": {
          "base_uri": "https://localhost:8080/",
          "height": 51
        },
        "colab_type": "code",
        "id": "_wO9jyzco7Tq",
        "outputId": "199a8a95-6d2f-41d8-cf83-4487fde21466"
      },
      "outputs": [
        {
          "name": "stdout",
          "output_type": "stream",
          "text": [
            "p-value: 0.07441228142144751\n",
            "No rechazamos H0: No hay diferencias significativas entre los grupos 2 y 3.\n"
          ]
        }
      ],
      "source": [
        "stat, p = mannwhitneyu(group2.rating, group3.rating,alternative='two-sided')\n",
        "print('p-value:', p)\n",
        "if p > alpha_new:\n",
        "\tprint('No rechazamos H0: No hay diferencias significativas entre los grupos 2 y 3.')\n",
        "else:\n",
        "\tprint('Rechazamos H0: Hay diferencias significativas entre los grupos 2 y 3.')"
      ]
    },
    {
      "cell_type": "code",
      "execution_count": 18,
      "metadata": {
        "colab": {
          "base_uri": "https://localhost:8080/",
          "height": 51
        },
        "colab_type": "code",
        "id": "AURAKwJopCnQ",
        "outputId": "3b02ac65-6a8d-4341-8a99-c0607e8c3f4d"
      },
      "outputs": [
        {
          "name": "stdout",
          "output_type": "stream",
          "text": [
            "p-value: 0.09993509549720665\n",
            "No rechazamos H0: No hay diferencias significativas entre los grupos 2 y 4.\n"
          ]
        }
      ],
      "source": [
        "stat, p = mannwhitneyu(group2.rating, group4.rating,alternative='two-sided')\n",
        "print('p-value:', p)\n",
        "if p > alpha_new:\n",
        "\tprint('No rechazamos H0: No hay diferencias significativas entre los grupos 2 y 4.')\n",
        "else:\n",
        "\tprint('Rechazamos H0: Hay diferencias significativas entre los grupos 2 y 4.')"
      ]
    },
    {
      "cell_type": "code",
      "execution_count": 19,
      "metadata": {
        "colab": {
          "base_uri": "https://localhost:8080/",
          "height": 51
        },
        "colab_type": "code",
        "id": "GOV-akKFpEPm",
        "outputId": "7348f723-e613-46b2-c88c-b2bded5c8c42"
      },
      "outputs": [
        {
          "name": "stdout",
          "output_type": "stream",
          "text": [
            "p-value: 1.0\n",
            "No rechazamos H0: No hay diferencias significativas entre los grupos 3 y 4.\n"
          ]
        }
      ],
      "source": [
        "stat, p = mannwhitneyu(group3.rating, group4.rating,alternative='two-sided')\n",
        "print('p-value:', p)\n",
        "if p > alpha_new:\n",
        "\tprint('No rechazamos H0: No hay diferencias significativas entre los grupos 3 y 4.')\n",
        "else:\n",
        "\tprint('Rechazamos H0: Hay diferencias significativas entre los grupos 3 y 4.')"
      ]
    },
    {
      "cell_type": "code",
      "execution_count": 15,
      "metadata": {},
      "outputs": [
        {
          "name": "stdout",
          "output_type": "stream",
          "text": [
            "Comparación entre grupos 1 y 2: p-value = 0.009911377465815045\n",
            "No rechazamos H0: No hay diferencias significativas entre los grupos.\n",
            "Comparación entre grupos 1 y 3: p-value = 0.00039457325940790667\n",
            "Rechazamos H0: Hay diferencias significativas entre los grupos.\n",
            "Comparación entre grupos 1 y 4: p-value = 0.0010607936166658369\n",
            "Rechazamos H0: Hay diferencias significativas entre los grupos.\n",
            "Comparación entre grupos 2 y 3: p-value = 0.07441228142144751\n",
            "No rechazamos H0: No hay diferencias significativas entre los grupos.\n",
            "Comparación entre grupos 2 y 4: p-value = 0.09993509549720665\n",
            "No rechazamos H0: No hay diferencias significativas entre los grupos.\n",
            "Comparación entre grupos 3 y 4: p-value = 1.0\n",
            "No rechazamos H0: No hay diferencias significativas entre los grupos.\n"
          ]
        }
      ],
      "source": [
        "from scipy.stats import mannwhitneyu\n",
        "from statsmodels.stats.multitest import multipletests\n",
        "\n",
        "# Definir los grupos\n",
        "groups = [group1, group2, group3, group4]\n",
        "\n",
        "# Número total de comparaciones\n",
        "n_comparisons = len(groups) * (len(groups) - 1) // 2\n",
        "\n",
        "# Calcular el nuevo nivel de significancia\n",
        "alpha_new = 0.05 / n_comparisons\n",
        "\n",
        "# Realizar comparaciones ajustadas con Bonferroni\n",
        "for i in range(len(groups)):\n",
        "    for j in range(i+1, len(groups)):\n",
        "        stat, p = mannwhitneyu(groups[i].rating, groups[j].rating, alternative='two-sided')\n",
        "        print(f'Comparación entre grupos {i+1} y {j+1}: p-value = {p}')\n",
        "        reject, p_corrected, alpha_sidak, alpha_bonf = multipletests([p], alpha=alpha_new, method='bonferroni')\n",
        "        if reject[0]:\n",
        "            print('Rechazamos H0: Hay diferencias significativas entre los grupos.')\n",
        "        else:\n",
        "            print('No rechazamos H0: No hay diferencias significativas entre los grupos.')\n"
      ]
    },
    {
      "cell_type": "code",
      "execution_count": 16,
      "metadata": {},
      "outputs": [
        {
          "data": {
            "text/plain": [
              "0.008333333333333333"
            ]
          },
          "execution_count": 16,
          "metadata": {},
          "output_type": "execute_result"
        }
      ],
      "source": [
        "0.05/6"
      ]
    },
    {
      "cell_type": "markdown",
      "metadata": {
        "colab_type": "text",
        "id": "KlfGUkbByLD_"
      },
      "source": [
        "# Conclusión\n",
        "Según la prueba de Kruskal-Wallis de comparación de grupos independientes existen diferencias significativas entre los valores reportados de dolor de acuerdo a la dosis recibida del medicamento.\n",
        "\n",
        "Según las pruebas Mann-Whitney de pares de grupos hay diferencias significativas entre los grupos:\n",
        "\n",
        "\n",
        "*   1 y 3 (100mg vs 500mg)\n",
        "*   1 y 4 (100mg vs 1000mg)\n",
        "\n",
        "El dolor reportado por los pacientes no difiere significativamente entre los grupos que tomaron dosis de 250mg, 500mg y 1000mg.\n"
      ]
    }
  ],
  "metadata": {
    "colab": {
      "name": "4.2.Kruskal-Wallis.ipynb",
      "provenance": []
    },
    "kernelspec": {
      "display_name": "Python 3",
      "name": "python3"
    },
    "language_info": {
      "codemirror_mode": {
        "name": "ipython",
        "version": 3
      },
      "file_extension": ".py",
      "mimetype": "text/x-python",
      "name": "python",
      "nbconvert_exporter": "python",
      "pygments_lexer": "ipython3",
      "version": "3.10.6"
    }
  },
  "nbformat": 4,
  "nbformat_minor": 0
}
