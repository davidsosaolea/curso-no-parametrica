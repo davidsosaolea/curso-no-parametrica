{
  "cells": [
    {
      "cell_type": "code",
      "execution_count": 3,
      "metadata": {
        "colab": {},
        "colab_type": "code",
        "id": "nE9inMoKVRVi"
      },
      "outputs": [],
      "source": [
        "import numpy as np\n",
        "import pandas as pd\n",
        "import matplotlib.pyplot as plt\n",
        "import seaborn as sns\n",
        "from scipy import stats\n",
        "from scipy.stats import friedmanchisquare\n",
        "from scipy.stats import wilcoxon\n",
        "import warnings\n",
        "warnings.filterwarnings(\"ignore\")"
      ]
    },
    {
      "cell_type": "code",
      "execution_count": 4,
      "metadata": {
        "colab": {},
        "colab_type": "code",
        "id": "BITleO8zVmX6"
      },
      "outputs": [],
      "source": [
        "df=pd.read_csv('wine.csv')"
      ]
    },
    {
      "cell_type": "code",
      "execution_count": 5,
      "metadata": {
        "colab": {
          "base_uri": "https://localhost:8080/",
          "height": 195
        },
        "colab_type": "code",
        "id": "nMDSaWDHVpMh",
        "outputId": "15a80b50-5561-44fb-e088-c075942979cf"
      },
      "outputs": [
        {
          "data": {
            "text/html": [
              "<div>\n",
              "<style scoped>\n",
              "    .dataframe tbody tr th:only-of-type {\n",
              "        vertical-align: middle;\n",
              "    }\n",
              "\n",
              "    .dataframe tbody tr th {\n",
              "        vertical-align: top;\n",
              "    }\n",
              "\n",
              "    .dataframe thead th {\n",
              "        text-align: right;\n",
              "    }\n",
              "</style>\n",
              "<table border=\"1\" class=\"dataframe\">\n",
              "  <thead>\n",
              "    <tr style=\"text-align: right;\">\n",
              "      <th></th>\n",
              "      <th>Judge</th>\n",
              "      <th>pinecreek</th>\n",
              "      <th>saintjude</th>\n",
              "      <th>northnapa</th>\n",
              "      <th>sevenwinds</th>\n",
              "      <th>eternalvalley</th>\n",
              "    </tr>\n",
              "  </thead>\n",
              "  <tbody>\n",
              "    <tr>\n",
              "      <th>0</th>\n",
              "      <td>1.0</td>\n",
              "      <td>6.0</td>\n",
              "      <td>3.0</td>\n",
              "      <td>3.0</td>\n",
              "      <td>5.0</td>\n",
              "      <td>3.0</td>\n",
              "    </tr>\n",
              "    <tr>\n",
              "      <th>1</th>\n",
              "      <td>2.0</td>\n",
              "      <td>7.0</td>\n",
              "      <td>4.0</td>\n",
              "      <td>4.0</td>\n",
              "      <td>4.0</td>\n",
              "      <td>4.0</td>\n",
              "    </tr>\n",
              "    <tr>\n",
              "      <th>2</th>\n",
              "      <td>3.0</td>\n",
              "      <td>6.0</td>\n",
              "      <td>5.0</td>\n",
              "      <td>4.0</td>\n",
              "      <td>5.0</td>\n",
              "      <td>3.0</td>\n",
              "    </tr>\n",
              "    <tr>\n",
              "      <th>3</th>\n",
              "      <td>4.0</td>\n",
              "      <td>7.0</td>\n",
              "      <td>3.0</td>\n",
              "      <td>2.0</td>\n",
              "      <td>4.0</td>\n",
              "      <td>2.0</td>\n",
              "    </tr>\n",
              "    <tr>\n",
              "      <th>4</th>\n",
              "      <td>5.0</td>\n",
              "      <td>5.0</td>\n",
              "      <td>4.0</td>\n",
              "      <td>3.0</td>\n",
              "      <td>4.0</td>\n",
              "      <td>4.0</td>\n",
              "    </tr>\n",
              "  </tbody>\n",
              "</table>\n",
              "</div>"
            ],
            "text/plain": [
              "   Judge  pinecreek  saintjude  northnapa  sevenwinds  eternalvalley\n",
              "0    1.0        6.0        3.0        3.0         5.0            3.0\n",
              "1    2.0        7.0        4.0        4.0         4.0            4.0\n",
              "2    3.0        6.0        5.0        4.0         5.0            3.0\n",
              "3    4.0        7.0        3.0        2.0         4.0            2.0\n",
              "4    5.0        5.0        4.0        3.0         4.0            4.0"
            ]
          },
          "execution_count": 5,
          "metadata": {},
          "output_type": "execute_result"
        }
      ],
      "source": [
        "df.head()"
      ]
    },
    {
      "cell_type": "code",
      "execution_count": 6,
      "metadata": {
        "colab": {
          "base_uri": "https://localhost:8080/",
          "height": 50
        },
        "colab_type": "code",
        "id": "m3wLhMQFV95_",
        "outputId": "104b8400-95f9-47b1-da89-3ce92e0ee866"
      },
      "outputs": [
        {
          "name": "stdout",
          "output_type": "stream",
          "text": [
            "Statistics=29.893, p=0.000\n",
            "Rechazamos H0: Hay diferencias significativas entre los grupos.\n"
          ]
        }
      ],
      "source": [
        "stat, p = friedmanchisquare(df.pinecreek, df.saintjude, df.northnapa, df.sevenwinds, df.eternalvalley)\n",
        "print('Statistics=%.3f, p=%.3f' % (stat, p))\n",
        "# interpretación\n",
        "alpha = 0.05\n",
        "if p > alpha:\n",
        "\tprint('No rechazamos H0: No hay diferencias significativas entre los grupos.')\n",
        "else:\n",
        "\tprint('Rechazamos H0: Hay diferencias significativas entre los grupos.')"
      ]
    },
    {
      "cell_type": "code",
      "execution_count": 7,
      "metadata": {
        "colab": {},
        "colab_type": "code",
        "id": "eeqxAWmSWt8A"
      },
      "outputs": [],
      "source": [
        "#Combinaciones de 2 en 5 = 5!/(2!*3!)=10\n",
        "#Corrección de Bonferroni \n",
        "anew=0.05/10\n"
      ]
    },
    {
      "cell_type": "code",
      "execution_count": 8,
      "metadata": {
        "colab": {},
        "colab_type": "code",
        "id": "yDJun4yubZLA"
      },
      "outputs": [],
      "source": [
        "# definimos una función\n",
        "def testwilcoxon(x,y):\n",
        "  stat, p = wilcoxon(x, y, alternative='two-sided')\n",
        "  print('Statistics=%.3f, p=%.3f' % (stat, p))\n",
        "  # interpretación\n",
        "  alpha=0.05/10\n",
        "  if p > alpha:\n",
        "    print('No rechazamos H0: No hay diferencias significativas')\n",
        "  else:\n",
        "    print('Rechazamos H0: Hay diferencias significativas')\n",
        "    "
      ]
    },
    {
      "cell_type": "code",
      "execution_count": 9,
      "metadata": {
        "colab": {
          "base_uri": "https://localhost:8080/",
          "height": 51
        },
        "colab_type": "code",
        "id": "3nkroz1xb0Mp",
        "outputId": "81ff74a0-eb57-47c6-de87-b8ab4a61db1a"
      },
      "outputs": [
        {
          "name": "stdout",
          "output_type": "stream",
          "text": [
            "Statistics=0.000, p=0.002\n",
            "Rechazamos H0: Hay diferencias significativas\n"
          ]
        }
      ],
      "source": [
        "testwilcoxon(df.pinecreek, df.saintjude)"
      ]
    },
    {
      "cell_type": "code",
      "execution_count": 10,
      "metadata": {
        "colab": {
          "base_uri": "https://localhost:8080/",
          "height": 51
        },
        "colab_type": "code",
        "id": "jSsz4c0Ib4cn",
        "outputId": "402aa3cb-6f79-4ef0-c35e-3b55e70ef124"
      },
      "outputs": [
        {
          "name": "stdout",
          "output_type": "stream",
          "text": [
            "Statistics=0.000, p=0.002\n",
            "Rechazamos H0: Hay diferencias significativas\n"
          ]
        }
      ],
      "source": [
        "testwilcoxon(df.pinecreek, df.northnapa)"
      ]
    },
    {
      "cell_type": "code",
      "execution_count": 11,
      "metadata": {
        "colab": {
          "base_uri": "https://localhost:8080/",
          "height": 51
        },
        "colab_type": "code",
        "id": "Ch8bvKgqb_V5",
        "outputId": "9773cab7-fe3c-47bc-eda9-70d92bd082a7"
      },
      "outputs": [
        {
          "name": "stdout",
          "output_type": "stream",
          "text": [
            "Statistics=0.000, p=0.002\n",
            "Rechazamos H0: Hay diferencias significativas\n"
          ]
        }
      ],
      "source": [
        "testwilcoxon(df.pinecreek,df.sevenwinds)"
      ]
    },
    {
      "cell_type": "code",
      "execution_count": 12,
      "metadata": {
        "colab": {
          "base_uri": "https://localhost:8080/",
          "height": 51
        },
        "colab_type": "code",
        "id": "hmbWSpp6cBi4",
        "outputId": "d350c4bb-efcb-4d3d-a321-c6ae0773620a"
      },
      "outputs": [
        {
          "name": "stdout",
          "output_type": "stream",
          "text": [
            "Statistics=0.000, p=0.002\n",
            "Rechazamos H0: Hay diferencias significativas\n"
          ]
        }
      ],
      "source": [
        "testwilcoxon(df.pinecreek, df.eternalvalley)"
      ]
    },
    {
      "cell_type": "code",
      "execution_count": 13,
      "metadata": {
        "colab": {
          "base_uri": "https://localhost:8080/",
          "height": 51
        },
        "colab_type": "code",
        "id": "3WMoWCQhcJnJ",
        "outputId": "22b51893-1e5c-4293-c1b6-b156bd81cfac"
      },
      "outputs": [
        {
          "name": "stdout",
          "output_type": "stream",
          "text": [
            "Statistics=2.500, p=0.084\n",
            "No rechazamos H0: No hay diferencias significativas\n"
          ]
        }
      ],
      "source": [
        "testwilcoxon(df.saintjude, df.northnapa)"
      ]
    },
    {
      "cell_type": "code",
      "execution_count": 14,
      "metadata": {
        "colab": {
          "base_uri": "https://localhost:8080/",
          "height": 51
        },
        "colab_type": "code",
        "id": "Qaomj9hicaYy",
        "outputId": "fbdec657-e98d-4c75-f2c1-ff93693f565c"
      },
      "outputs": [
        {
          "name": "stdout",
          "output_type": "stream",
          "text": [
            "Statistics=2.500, p=0.084\n",
            "No rechazamos H0: No hay diferencias significativas\n"
          ]
        }
      ],
      "source": [
        "testwilcoxon(df.saintjude, df.eternalvalley)"
      ]
    },
    {
      "cell_type": "code",
      "execution_count": 15,
      "metadata": {
        "colab": {
          "base_uri": "https://localhost:8080/",
          "height": 50
        },
        "colab_type": "code",
        "id": "pIZJGUsIcaln",
        "outputId": "09dfe8d7-ddff-4d4c-8d47-72ee954cfbac"
      },
      "outputs": [
        {
          "name": "stdout",
          "output_type": "stream",
          "text": [
            "Statistics=2.500, p=0.084\n",
            "No rechazamos H0: No hay diferencias significativas\n"
          ]
        }
      ],
      "source": [
        "testwilcoxon(df.saintjude, df.eternalvalley)"
      ]
    },
    {
      "cell_type": "code",
      "execution_count": 16,
      "metadata": {
        "colab": {
          "base_uri": "https://localhost:8080/",
          "height": 50
        },
        "colab_type": "code",
        "id": "7-FtUA9echLs",
        "outputId": "88b1d15b-ddca-4dc0-fc0d-549dd256a8b9"
      },
      "outputs": [
        {
          "name": "stdout",
          "output_type": "stream",
          "text": [
            "Statistics=0.000, p=0.016\n",
            "No rechazamos H0: No hay diferencias significativas\n"
          ]
        }
      ],
      "source": [
        "testwilcoxon(df.northnapa, df.sevenwinds)"
      ]
    },
    {
      "cell_type": "code",
      "execution_count": 17,
      "metadata": {
        "colab": {
          "base_uri": "https://localhost:8080/",
          "height": 50
        },
        "colab_type": "code",
        "id": "FTC5bu4ccjlU",
        "outputId": "35565d44-5ee1-460d-be4d-08f7c76ed628"
      },
      "outputs": [
        {
          "name": "stdout",
          "output_type": "stream",
          "text": [
            "Statistics=10.500, p=1.000\n",
            "No rechazamos H0: No hay diferencias significativas\n"
          ]
        }
      ],
      "source": [
        "testwilcoxon(df.northnapa, df.eternalvalley)"
      ]
    },
    {
      "cell_type": "code",
      "execution_count": 18,
      "metadata": {
        "colab": {
          "base_uri": "https://localhost:8080/",
          "height": 50
        },
        "colab_type": "code",
        "id": "zZ28bSvocoAB",
        "outputId": "8a2bd9fd-74d8-47cc-dfaf-71d884b49627"
      },
      "outputs": [
        {
          "name": "stdout",
          "output_type": "stream",
          "text": [
            "Statistics=1.500, p=0.016\n",
            "No rechazamos H0: No hay diferencias significativas\n"
          ]
        }
      ],
      "source": [
        "testwilcoxon(df.sevenwinds, df.eternalvalley)"
      ]
    }
  ],
  "metadata": {
    "colab": {
      "name": "6.2.Friedman.ipynb",
      "provenance": []
    },
    "kernelspec": {
      "display_name": "Python 3",
      "name": "python3"
    },
    "language_info": {
      "codemirror_mode": {
        "name": "ipython",
        "version": 3
      },
      "file_extension": ".py",
      "mimetype": "text/x-python",
      "name": "python",
      "nbconvert_exporter": "python",
      "pygments_lexer": "ipython3",
      "version": "3.10.6"
    }
  },
  "nbformat": 4,
  "nbformat_minor": 0
}
