{
  "cells": [
    {
      "cell_type": "code",
      "execution_count": 2,
      "metadata": {
        "colab": {},
        "colab_type": "code",
        "id": "TKZ5NBGhx_6k"
      },
      "outputs": [],
      "source": [
        "import pandas as pd\n",
        "import seaborn as sns\n",
        "import numpy as np\n",
        "import matplotlib.pyplot as plt\n",
        "from sklearn.linear_model import LinearRegression\n",
        "from scipy import stats\n",
        "from statsmodels.stats.diagnostic import normal_ad\n",
        "from scipy.stats import shapiro\n"
      ]
    },
    {
      "cell_type": "code",
      "execution_count": 3,
      "metadata": {
        "colab": {},
        "colab_type": "code",
        "id": "G7M-BU1tB28M"
      },
      "outputs": [],
      "source": [
        "df=pd.read_csv('./notasmatesingles.csv')"
      ]
    },
    {
      "cell_type": "code",
      "execution_count": 4,
      "metadata": {
        "colab": {
          "base_uri": "https://localhost:8080/",
          "height": 204
        },
        "colab_type": "code",
        "id": "KbiHP_KCyJUR",
        "outputId": "0e96efba-dab7-430a-e4d1-e3790563027c"
      },
      "outputs": [
        {
          "data": {
            "text/html": [
              "<div>\n",
              "<style scoped>\n",
              "    .dataframe tbody tr th:only-of-type {\n",
              "        vertical-align: middle;\n",
              "    }\n",
              "\n",
              "    .dataframe tbody tr th {\n",
              "        vertical-align: top;\n",
              "    }\n",
              "\n",
              "    .dataframe thead th {\n",
              "        text-align: right;\n",
              "    }\n",
              "</style>\n",
              "<table border=\"1\" class=\"dataframe\">\n",
              "  <thead>\n",
              "    <tr style=\"text-align: right;\">\n",
              "      <th></th>\n",
              "      <th>Matematicas</th>\n",
              "      <th>Ingles</th>\n",
              "    </tr>\n",
              "  </thead>\n",
              "  <tbody>\n",
              "    <tr>\n",
              "      <th>0</th>\n",
              "      <td>80.0</td>\n",
              "      <td>77.0</td>\n",
              "    </tr>\n",
              "    <tr>\n",
              "      <th>1</th>\n",
              "      <td>78.0</td>\n",
              "      <td>67.0</td>\n",
              "    </tr>\n",
              "    <tr>\n",
              "      <th>2</th>\n",
              "      <td>90.0</td>\n",
              "      <td>77.0</td>\n",
              "    </tr>\n",
              "    <tr>\n",
              "      <th>3</th>\n",
              "      <td>70.0</td>\n",
              "      <td>76.0</td>\n",
              "    </tr>\n",
              "    <tr>\n",
              "      <th>4</th>\n",
              "      <td>55.0</td>\n",
              "      <td>72.0</td>\n",
              "    </tr>\n",
              "  </tbody>\n",
              "</table>\n",
              "</div>"
            ],
            "text/plain": [
              "   Matematicas  Ingles\n",
              "0         80.0    77.0\n",
              "1         78.0    67.0\n",
              "2         90.0    77.0\n",
              "3         70.0    76.0\n",
              "4         55.0    72.0"
            ]
          },
          "execution_count": 4,
          "metadata": {},
          "output_type": "execute_result"
        }
      ],
      "source": [
        "df.head()"
      ]
    },
    {
      "cell_type": "code",
      "execution_count": 5,
      "metadata": {
        "colab": {
          "base_uri": "https://localhost:8080/",
          "height": 265
        },
        "colab_type": "code",
        "id": "QYem-MRE2U1V",
        "outputId": "3f722f48-09bf-42dc-fd66-ebe14d5647bb"
      },
      "outputs": [
        {
          "data": {
            "image/png": "[encoded data removed]",
            "text/plain": [
              "<Figure size 640x480 with 1 Axes>"
            ]
          },
          "metadata": {},
          "output_type": "display_data"
        }
      ],
      "source": [
        "plt.scatter(df['Matematicas'], df['Ingles']);"
      ]
    },
    {
      "cell_type": "code",
      "execution_count": 6,
      "metadata": {
        "colab": {},
        "colab_type": "code",
        "id": "k27v6JJn1t7X"
      },
      "outputs": [],
      "source": [
        "model = LinearRegression()"
      ]
    },
    {
      "cell_type": "code",
      "execution_count": 7,
      "metadata": {
        "colab": {
          "base_uri": "https://localhost:8080/",
          "height": 34
        },
        "colab_type": "code",
        "id": "zyEkSn_X2t2A",
        "outputId": "ef710b02-c575-43f9-c96a-a8a6464fb3ff"
      },
      "outputs": [
        {
          "data": {
            "text/html": [
              "<style>#sk-container-id-1 {color: black;background-color: white;}#sk-container-id-1 pre{padding: 0;}#sk-container-id-1 div.sk-toggleable {background-color: white;}#sk-container-id-1 label.sk-toggleable__label {cursor: pointer;display: block;width: 100%;margin-bottom: 0;padding: 0.3em;box-sizing: border-box;text-align: center;}#sk-container-id-1 label.sk-toggleable__label-arrow:before {content: \"▸\";float: left;margin-right: 0.25em;color: #696969;}#sk-container-id-1 label.sk-toggleable__label-arrow:hover:before {color: black;}#sk-container-id-1 div.sk-estimator:hover label.sk-toggleable__label-arrow:before {color: black;}#sk-container-id-1 div.sk-toggleable__content {max-height: 0;max-width: 0;overflow: hidden;text-align: left;background-color: #f0f8ff;}#sk-container-id-1 div.sk-toggleable__content pre {margin: 0.2em;color: black;border-radius: 0.25em;background-color: #f0f8ff;}#sk-container-id-1 input.sk-toggleable__control:checked~div.sk-toggleable__content {max-height: 200px;max-width: 100%;overflow: auto;}#sk-container-id-1 input.sk-toggleable__control:checked~label.sk-toggleable__label-arrow:before {content: \"▾\";}#sk-container-id-1 div.sk-estimator input.sk-toggleable__control:checked~label.sk-toggleable__label {background-color: #d4ebff;}#sk-container-id-1 div.sk-label input.sk-toggleable__control:checked~label.sk-toggleable__label {background-color: #d4ebff;}#sk-container-id-1 input.sk-hidden--visually {border: 0;clip: rect(1px 1px 1px 1px);clip: rect(1px, 1px, 1px, 1px);height: 1px;margin: -1px;overflow: hidden;padding: 0;position: absolute;width: 1px;}#sk-container-id-1 div.sk-estimator {font-family: monospace;background-color: #f0f8ff;border: 1px dotted black;border-radius: 0.25em;box-sizing: border-box;margin-bottom: 0.5em;}#sk-container-id-1 div.sk-estimator:hover {background-color: #d4ebff;}#sk-container-id-1 div.sk-parallel-item::after {content: \"\";width: 100%;border-bottom: 1px solid gray;flex-grow: 1;}#sk-container-id-1 div.sk-label:hover label.sk-toggleable__label {background-color: #d4ebff;}#sk-container-id-1 div.sk-serial::before {content: \"\";position: absolute;border-left: 1px solid gray;box-sizing: border-box;top: 0;bottom: 0;left: 50%;z-index: 0;}#sk-container-id-1 div.sk-serial {display: flex;flex-direction: column;align-items: center;background-color: white;padding-right: 0.2em;padding-left: 0.2em;position: relative;}#sk-container-id-1 div.sk-item {position: relative;z-index: 1;}#sk-container-id-1 div.sk-parallel {display: flex;align-items: stretch;justify-content: center;background-color: white;position: relative;}#sk-container-id-1 div.sk-item::before, #sk-container-id-1 div.sk-parallel-item::before {content: \"\";position: absolute;border-left: 1px solid gray;box-sizing: border-box;top: 0;bottom: 0;left: 50%;z-index: -1;}#sk-container-id-1 div.sk-parallel-item {display: flex;flex-direction: column;z-index: 1;position: relative;background-color: white;}#sk-container-id-1 div.sk-parallel-item:first-child::after {align-self: flex-end;width: 50%;}#sk-container-id-1 div.sk-parallel-item:last-child::after {align-self: flex-start;width: 50%;}#sk-container-id-1 div.sk-parallel-item:only-child::after {width: 0;}#sk-container-id-1 div.sk-dashed-wrapped {border: 1px dashed gray;margin: 0 0.4em 0.5em 0.4em;box-sizing: border-box;padding-bottom: 0.4em;background-color: white;}#sk-container-id-1 div.sk-label label {font-family: monospace;font-weight: bold;display: inline-block;line-height: 1.2em;}#sk-container-id-1 div.sk-label-container {text-align: center;}#sk-container-id-1 div.sk-container {/* jupyter's `normalize.less` sets `[hidden] { display: none; }` but bootstrap.min.css set `[hidden] { display: none !important; }` so we also need the `!important` here to be able to override the default hidden behavior on the sphinx rendered scikit-learn.org. See: https://github.com/scikit-learn/scikit-learn/issues/21755 */display: inline-block !important;position: relative;}#sk-container-id-1 div.sk-text-repr-fallback {display: none;}</style><div id=\"sk-container-id-1\" class=\"sk-top-container\"><div class=\"sk-text-repr-fallback\"><pre>LinearRegression()</pre><b>In a Jupyter environment, please rerun this cell to show the HTML representation or trust the notebook. <br />On GitHub, the HTML representation is unable to render, please try loading this page with nbviewer.org.</b></div><div class=\"sk-container\" hidden><div class=\"sk-item\"><div class=\"sk-estimator sk-toggleable\"><input class=\"sk-toggleable__control sk-hidden--visually\" id=\"sk-estimator-id-1\" type=\"checkbox\" checked><label for=\"sk-estimator-id-1\" class=\"sk-toggleable__label sk-toggleable__label-arrow\">LinearRegression</label><div class=\"sk-toggleable__content\"><pre>LinearRegression()</pre></div></div></div></div></div>"
            ],
            "text/plain": [
              "LinearRegression()"
            ]
          },
          "execution_count": 7,
          "metadata": {},
          "output_type": "execute_result"
        }
      ],
      "source": [
        "X = pd.DataFrame(df['Matematicas'])\n",
        "y = pd.DataFrame(df['Ingles'])\n",
        "model.fit(X, y)"
      ]
    },
    {
      "cell_type": "code",
      "execution_count": 8,
      "metadata": {
        "colab": {
          "base_uri": "https://localhost:8080/",
          "height": 51
        },
        "colab_type": "code",
        "id": "CQj0c_LF3O5e",
        "outputId": "5b7e2c59-fc52-4909-cd60-30822b552cd3"
      },
      "outputs": [
        {
          "name": "stdout",
          "output_type": "stream",
          "text": [
            "intercept: [87.5755888]\n",
            "slope: [[-0.17819582]]\n"
          ]
        }
      ],
      "source": [
        "print('intercept:', model.intercept_)\n",
        "print('slope:', model.coef_)"
      ]
    },
    {
      "cell_type": "code",
      "execution_count": 9,
      "metadata": {
        "colab": {
          "base_uri": "https://localhost:8080/",
          "height": 544
        },
        "colab_type": "code",
        "id": "jkmO8D7W3YLO",
        "outputId": "756f39da-a39b-4e73-d396-510a853f568e"
      },
      "outputs": [
        {
          "name": "stdout",
          "output_type": "stream",
          "text": [
            "predicted response:\n",
            "[[73.31992297]\n",
            " [73.67631462]\n",
            " [71.53796475]\n",
            " [75.1018812 ]\n",
            " [77.77481855]\n",
            " [77.06203525]\n",
            " [71.89435639]\n",
            " [74.38909791]\n",
            " [72.60713968]\n",
            " [75.81466449]\n",
            " [72.07255221]\n",
            " [74.21090209]\n",
            " [74.21090209]\n",
            " [73.4981188 ]\n",
            " [76.70564361]\n",
            " [74.92368538]\n",
            " [76.70564361]\n",
            " [71.71616057]\n",
            " [73.4981188 ]\n",
            " [74.56729373]\n",
            " [75.99286032]\n",
            " [70.11239816]\n",
            " [72.78533551]\n",
            " [77.24023108]\n",
            " [73.31992297]\n",
            " [76.17105614]\n",
            " [75.45827285]\n",
            " [72.42894386]\n",
            " [75.1018812 ]\n",
            " [75.1018812 ]]\n"
          ]
        }
      ],
      "source": [
        "y_pred = model.predict(X)\n",
        "print('predicted response:', y_pred, sep='\\n')"
      ]
    },
    {
      "cell_type": "code",
      "execution_count": 10,
      "metadata": {
        "colab": {
          "base_uri": "https://localhost:8080/",
          "height": 265
        },
        "colab_type": "code",
        "id": "C-HgFPUN3tXc",
        "outputId": "32ef5e0c-2adc-437b-972a-c497c59d0327"
      },
      "outputs": [
        {
          "data": {
            "image/png": "[encoded data removed]",
            "text/plain": [
              "<Figure size 640x480 with 1 Axes>"
            ]
          },
          "metadata": {},
          "output_type": "display_data"
        }
      ],
      "source": [
        "plt.scatter(X, y)\n",
        "plt.plot(X, y_pred, color='red')\n",
        "plt.show()"
      ]
    },
    {
      "cell_type": "code",
      "execution_count": 11,
      "metadata": {
        "colab": {},
        "colab_type": "code",
        "id": "U8ih9sL08A7v"
      },
      "outputs": [],
      "source": [
        "def calculate_residuals(model, features, label):\n",
        "    \"\"\"\n",
        "    Creates predictions on the features with the model and calculates residuals\n",
        "    \"\"\"\n",
        "    predictions = model.predict(features)\n",
        "    predictions_df=pd.DataFrame(predictions,columns=['Predictions'])\n",
        "    df_results = pd.DataFrame({'Actual': y['Ingles'], 'Predicted': predictions_df['Predictions']})\n",
        "    df_results['Residuals'] = abs(df_results['Actual']) - abs(df_results['Predicted'])\n",
        "    \n",
        "    return df_results"
      ]
    },
    {
      "cell_type": "code",
      "execution_count": 12,
      "metadata": {
        "colab": {},
        "colab_type": "code",
        "id": "ORNQkPOJBZo_"
      },
      "outputs": [],
      "source": [
        "df_results = calculate_residuals(model, X, y)"
      ]
    },
    {
      "cell_type": "code",
      "execution_count": 13,
      "metadata": {
        "colab": {
          "base_uri": "https://localhost:8080/",
          "height": 979
        },
        "colab_type": "code",
        "id": "W-Oc456pBckd",
        "outputId": "684b8d1c-b7ac-4ec5-b57d-821b2bccf38d"
      },
      "outputs": [
        {
          "data": {
            "text/html": [
              "<div>\n",
              "<style scoped>\n",
              "    .dataframe tbody tr th:only-of-type {\n",
              "        vertical-align: middle;\n",
              "    }\n",
              "\n",
              "    .dataframe tbody tr th {\n",
              "        vertical-align: top;\n",
              "    }\n",
              "\n",
              "    .dataframe thead th {\n",
              "        text-align: right;\n",
              "    }\n",
              "</style>\n",
              "<table border=\"1\" class=\"dataframe\">\n",
              "  <thead>\n",
              "    <tr style=\"text-align: right;\">\n",
              "      <th></th>\n",
              "      <th>Actual</th>\n",
              "      <th>Predicted</th>\n",
              "      <th>Residuals</th>\n",
              "    </tr>\n",
              "  </thead>\n",
              "  <tbody>\n",
              "    <tr>\n",
              "      <th>0</th>\n",
              "      <td>77.0</td>\n",
              "      <td>73.319923</td>\n",
              "      <td>3.680077</td>\n",
              "    </tr>\n",
              "    <tr>\n",
              "      <th>1</th>\n",
              "      <td>67.0</td>\n",
              "      <td>73.676315</td>\n",
              "      <td>-6.676315</td>\n",
              "    </tr>\n",
              "    <tr>\n",
              "      <th>2</th>\n",
              "      <td>77.0</td>\n",
              "      <td>71.537965</td>\n",
              "      <td>5.462035</td>\n",
              "    </tr>\n",
              "    <tr>\n",
              "      <th>3</th>\n",
              "      <td>76.0</td>\n",
              "      <td>75.101881</td>\n",
              "      <td>0.898119</td>\n",
              "    </tr>\n",
              "    <tr>\n",
              "      <th>4</th>\n",
              "      <td>72.0</td>\n",
              "      <td>77.774819</td>\n",
              "      <td>-5.774819</td>\n",
              "    </tr>\n",
              "    <tr>\n",
              "      <th>5</th>\n",
              "      <td>66.0</td>\n",
              "      <td>77.062035</td>\n",
              "      <td>-11.062035</td>\n",
              "    </tr>\n",
              "    <tr>\n",
              "      <th>6</th>\n",
              "      <td>72.0</td>\n",
              "      <td>71.894356</td>\n",
              "      <td>0.105644</td>\n",
              "    </tr>\n",
              "    <tr>\n",
              "      <th>7</th>\n",
              "      <td>88.0</td>\n",
              "      <td>74.389098</td>\n",
              "      <td>13.610902</td>\n",
              "    </tr>\n",
              "    <tr>\n",
              "      <th>8</th>\n",
              "      <td>59.0</td>\n",
              "      <td>72.607140</td>\n",
              "      <td>-13.607140</td>\n",
              "    </tr>\n",
              "    <tr>\n",
              "      <th>9</th>\n",
              "      <td>69.0</td>\n",
              "      <td>75.814664</td>\n",
              "      <td>-6.814664</td>\n",
              "    </tr>\n",
              "    <tr>\n",
              "      <th>10</th>\n",
              "      <td>82.0</td>\n",
              "      <td>72.072552</td>\n",
              "      <td>9.927448</td>\n",
              "    </tr>\n",
              "    <tr>\n",
              "      <th>11</th>\n",
              "      <td>73.0</td>\n",
              "      <td>74.210902</td>\n",
              "      <td>-1.210902</td>\n",
              "    </tr>\n",
              "    <tr>\n",
              "      <th>12</th>\n",
              "      <td>74.0</td>\n",
              "      <td>74.210902</td>\n",
              "      <td>-0.210902</td>\n",
              "    </tr>\n",
              "    <tr>\n",
              "      <th>13</th>\n",
              "      <td>65.0</td>\n",
              "      <td>73.498119</td>\n",
              "      <td>-8.498119</td>\n",
              "    </tr>\n",
              "    <tr>\n",
              "      <th>14</th>\n",
              "      <td>70.0</td>\n",
              "      <td>76.705644</td>\n",
              "      <td>-6.705644</td>\n",
              "    </tr>\n",
              "    <tr>\n",
              "      <th>15</th>\n",
              "      <td>76.0</td>\n",
              "      <td>74.923685</td>\n",
              "      <td>1.076315</td>\n",
              "    </tr>\n",
              "    <tr>\n",
              "      <th>16</th>\n",
              "      <td>80.0</td>\n",
              "      <td>76.705644</td>\n",
              "      <td>3.294356</td>\n",
              "    </tr>\n",
              "    <tr>\n",
              "      <th>17</th>\n",
              "      <td>65.0</td>\n",
              "      <td>71.716161</td>\n",
              "      <td>-6.716161</td>\n",
              "    </tr>\n",
              "    <tr>\n",
              "      <th>18</th>\n",
              "      <td>70.0</td>\n",
              "      <td>73.498119</td>\n",
              "      <td>-3.498119</td>\n",
              "    </tr>\n",
              "    <tr>\n",
              "      <th>19</th>\n",
              "      <td>74.0</td>\n",
              "      <td>74.567294</td>\n",
              "      <td>-0.567294</td>\n",
              "    </tr>\n",
              "    <tr>\n",
              "      <th>20</th>\n",
              "      <td>75.0</td>\n",
              "      <td>75.992860</td>\n",
              "      <td>-0.992860</td>\n",
              "    </tr>\n",
              "    <tr>\n",
              "      <th>21</th>\n",
              "      <td>68.0</td>\n",
              "      <td>70.112398</td>\n",
              "      <td>-2.112398</td>\n",
              "    </tr>\n",
              "    <tr>\n",
              "      <th>22</th>\n",
              "      <td>63.0</td>\n",
              "      <td>72.785336</td>\n",
              "      <td>-9.785336</td>\n",
              "    </tr>\n",
              "    <tr>\n",
              "      <th>23</th>\n",
              "      <td>98.0</td>\n",
              "      <td>77.240231</td>\n",
              "      <td>20.759769</td>\n",
              "    </tr>\n",
              "    <tr>\n",
              "      <th>24</th>\n",
              "      <td>79.0</td>\n",
              "      <td>73.319923</td>\n",
              "      <td>5.680077</td>\n",
              "    </tr>\n",
              "    <tr>\n",
              "      <th>25</th>\n",
              "      <td>64.0</td>\n",
              "      <td>76.171056</td>\n",
              "      <td>-12.171056</td>\n",
              "    </tr>\n",
              "    <tr>\n",
              "      <th>26</th>\n",
              "      <td>87.0</td>\n",
              "      <td>75.458273</td>\n",
              "      <td>11.541727</td>\n",
              "    </tr>\n",
              "    <tr>\n",
              "      <th>27</th>\n",
              "      <td>84.0</td>\n",
              "      <td>72.428944</td>\n",
              "      <td>11.571056</td>\n",
              "    </tr>\n",
              "    <tr>\n",
              "      <th>28</th>\n",
              "      <td>69.0</td>\n",
              "      <td>75.101881</td>\n",
              "      <td>-6.101881</td>\n",
              "    </tr>\n",
              "    <tr>\n",
              "      <th>29</th>\n",
              "      <td>90.0</td>\n",
              "      <td>75.101881</td>\n",
              "      <td>14.898119</td>\n",
              "    </tr>\n",
              "  </tbody>\n",
              "</table>\n",
              "</div>"
            ],
            "text/plain": [
              "    Actual  Predicted  Residuals\n",
              "0     77.0  73.319923   3.680077\n",
              "1     67.0  73.676315  -6.676315\n",
              "2     77.0  71.537965   5.462035\n",
              "3     76.0  75.101881   0.898119\n",
              "4     72.0  77.774819  -5.774819\n",
              "5     66.0  77.062035 -11.062035\n",
              "6     72.0  71.894356   0.105644\n",
              "7     88.0  74.389098  13.610902\n",
              "8     59.0  72.607140 -13.607140\n",
              "9     69.0  75.814664  -6.814664\n",
              "10    82.0  72.072552   9.927448\n",
              "11    73.0  74.210902  -1.210902\n",
              "12    74.0  74.210902  -0.210902\n",
              "13    65.0  73.498119  -8.498119\n",
              "14    70.0  76.705644  -6.705644\n",
              "15    76.0  74.923685   1.076315\n",
              "16    80.0  76.705644   3.294356\n",
              "17    65.0  71.716161  -6.716161\n",
              "18    70.0  73.498119  -3.498119\n",
              "19    74.0  74.567294  -0.567294\n",
              "20    75.0  75.992860  -0.992860\n",
              "21    68.0  70.112398  -2.112398\n",
              "22    63.0  72.785336  -9.785336\n",
              "23    98.0  77.240231  20.759769\n",
              "24    79.0  73.319923   5.680077\n",
              "25    64.0  76.171056 -12.171056\n",
              "26    87.0  75.458273  11.541727\n",
              "27    84.0  72.428944  11.571056\n",
              "28    69.0  75.101881  -6.101881\n",
              "29    90.0  75.101881  14.898119"
            ]
          },
          "execution_count": 13,
          "metadata": {},
          "output_type": "execute_result"
        }
      ],
      "source": [
        "df_results"
      ]
    },
    {
      "cell_type": "code",
      "execution_count": 14,
      "metadata": {
        "colab": {},
        "colab_type": "code",
        "id": "rftkG5w18PeY"
      },
      "outputs": [],
      "source": [
        "def normal_errors_assumption(model, features, label, p_value_thresh=0.05):\n",
        "    \"\"\"\n",
        "    Normality: Assumes that the error terms are normally distributed. If they are not,\n",
        "    nonlinear transformations of variables may solve this.\n",
        "               \n",
        "    This assumption being violated primarily causes issues with the confidence intervals\n",
        "    \"\"\"\n",
        "    \n",
        "    print('Assumption: The error terms are normally distributed', '\\n')\n",
        "    \n",
        "    # Calculating residuals for the Anderson-Darling test\n",
        "    df_results = calculate_residuals(model, features, label)\n",
        "    \n",
        "    print('Using the Anderson-Darling test for normal distribution')\n",
        "\n",
        "    # Performing the test on the residuals\n",
        "    p_value = normal_ad(df_results['Residuals'])[1]\n",
        "    print('p-value from the test - below 0.05 generally means non-normal:', p_value)\n",
        "    \n",
        "    # Reporting the normality of the residuals\n",
        "    if p_value < p_value_thresh:\n",
        "        print('Residuals are not normally distributed', '\\n')\n",
        "    else:\n",
        "        print('Residuals are normally distributed', '\\n')\n",
        "    \n",
        "    print('Using the Shapiro-Wilks test for normal distribution')\n",
        "    shapiro_test = shapiro(df_results['Residuals'])\n",
        "    shapiro_test_stat=shapiro_test[0]\n",
        "    shapiro_test_pvalue=shapiro_test[1]\n",
        "    print('p-value from the test - below 0.05 generally means non-normal:', shapiro_test_pvalue)\n",
        "    \n",
        "    # Reporting the normality of the residuals\n",
        "    if shapiro_test_pvalue < p_value_thresh:\n",
        "        print('Residuals are not normally distributed')\n",
        "    else:\n",
        "        print('Residuals are normally distributed')\n",
        "\n",
        "    # Plotting the residuals distribution\n",
        "    plt.subplots(figsize=(12, 6))\n",
        "    plt.title('Distribution of Residuals')\n",
        "    sns.distplot(df_results['Residuals'])\n",
        "    plt.show()\n",
        "    \n",
        "    print()\n",
        "    if p_value > p_value_thresh:\n",
        "        print('Assumption satisfied')\n",
        "    else:\n",
        "        print('Assumption not satisfied')\n",
        "        print()\n",
        "        print('Confidence intervals will likely be affected')\n",
        "        print('Try performing nonlinear transformations on variables')"
      ]
    },
    {
      "cell_type": "code",
      "execution_count": 18,
      "metadata": {},
      "outputs": [],
      "source": [
        "import matplotlib.pyplot as plt\n",
        "import seaborn as sns\n",
        "from scipy.stats import normaltest, shapiro\n",
        "\n",
        "def normal_errors_assumption(modelo, características, etiqueta, umbral_valor_p=0.05):\n",
        "    \"\"\"\n",
        "    Normalidad: Supone que los términos de error están distribuidos normalmente. Si no lo están,\n",
        "    transformaciones no lineales de variables podrían solucionarlo.\n",
        "               \n",
        "    La violación de esta suposición causa principalmente problemas con los intervalos de confianza\n",
        "    \"\"\"\n",
        "    \n",
        "    print('Suposición: Los términos de error están distribuidos normalmente', '\\n')\n",
        "    \n",
        "    # Calculando los residuos para las pruebas de normalidad\n",
        "    resultados_df = calculate_residuals(modelo, características, etiqueta)\n",
        "    \n",
        "    print('Utilizando la prueba de Anderson-Darling para distribución normal')\n",
        "    # Realizando la prueba de Anderson-Darling en los residuos\n",
        "    estad_ad, valor_p_ad = normaltest(resultados_df['Residuals'])\n",
        "    print('Valor p de la prueba - por debajo de 0.05 generalmente significa no normalidad:', valor_p_ad)\n",
        "    \n",
        "    # Reportando la normalidad de los residuos basada en la prueba de Anderson-Darling\n",
        "    if valor_p_ad < umbral_valor_p:\n",
        "        print('Los residuos no están distribuidos normalmente', '\\n')\n",
        "    else:\n",
        "        print('Los residuos están distribuidos normalmente', '\\n')\n",
        "    \n",
        "    print('Utilizando la prueba de Shapiro-Wilk para distribución normal')\n",
        "    # Realizando la prueba de Shapiro-Wilk en los residuos\n",
        "    estad_shapiro, valor_p_shapiro = shapiro(resultados_df['Residuals'])\n",
        "    print('Valor p de la prueba - por debajo de 0.05 generalmente significa no normalidad:', valor_p_shapiro)\n",
        "    \n",
        "    # Reportando la normalidad de los residuos basada en la prueba de Shapiro-Wilk\n",
        "    if valor_p_shapiro < umbral_valor_p:\n",
        "        print('Los residuos no están distribuidos normalmente')\n",
        "    else:\n",
        "        print('Los residuos están distribuidos normalmente')\n",
        "\n",
        "    # Graficando la distribución de los residuos\n",
        "    plt.figure(figsize=(12, 6))\n",
        "    plt.title('Distribución de Residuos')\n",
        "    sns.histplot(resultados_df['Residuals'], kde=True, stat=\"density\", kde_kws=dict(cut=3))\n",
        "    plt.xlabel('Residuos')\n",
        "    plt.ylabel('Frecuencia')\n",
        "    plt.show()\n",
        "    \n",
        "    \n",
        "    print()\n",
        "    if valor_p_ad > umbral_valor_p and valor_p_shapiro > umbral_valor_p:\n",
        "        print('Suposición satisfecha')\n",
        "    else:\n",
        "        print('Suposición no satisfecha')\n",
        "        print()\n",
        "        print('Los intervalos de confianza podrían verse afectados')\n",
        "        print('Considera transformar las variables no linealmente')\n"
      ]
    },
    {
      "cell_type": "code",
      "execution_count": 19,
      "metadata": {},
      "outputs": [
        {
          "name": "stdout",
          "output_type": "stream",
          "text": [
            "Suposición: Los términos de error están distribuidos normalmente \n",
            "\n",
            "Utilizando la prueba de Anderson-Darling para distribución normal\n",
            "Valor p de la prueba - por debajo de 0.05 generalmente significa no normalidad: 0.3732294996447035\n",
            "Los residuos están distribuidos normalmente \n",
            "\n",
            "Utilizando la prueba de Shapiro-Wilk para distribución normal\n",
            "Valor p de la prueba - por debajo de 0.05 generalmente significa no normalidad: 0.28227943181991577\n",
            "Los residuos están distribuidos normalmente\n"
          ]
        },
        {
          "data": {
            "image/png": "[encoded data removed]",
            "text/plain": [
              "<Figure size 1200x600 with 1 Axes>"
            ]
          },
          "metadata": {},
          "output_type": "display_data"
        },
        {
          "name": "stdout",
          "output_type": "stream",
          "text": [
            "\n",
            "Suposición satisfecha\n"
          ]
        }
      ],
      "source": [
        "normal_errors_assumption(model, X, y)"
      ]
    }
  ],
  "metadata": {
    "colab": {
      "name": "2.2.Analizando_distribuciones.ipynb",
      "provenance": []
    },
    "kernelspec": {
      "display_name": "Python 3",
      "name": "python3"
    },
    "language_info": {
      "codemirror_mode": {
        "name": "ipython",
        "version": 3
      },
      "file_extension": ".py",
      "mimetype": "text/x-python",
      "name": "python",
      "nbconvert_exporter": "python",
      "pygments_lexer": "ipython3",
      "version": "3.10.6"
    }
  },
  "nbformat": 4,
  "nbformat_minor": 0
}
